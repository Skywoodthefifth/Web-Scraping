{
 "cells": [
  {
   "cell_type": "code",
   "execution_count": 1169,
   "metadata": {},
   "outputs": [],
   "source": [
    "import re\n",
    "import sys\n",
    "\n",
    "import time\n",
    "import datetime\n",
    "\n",
    "import numpy as np\n",
    "import pandas as pd\n",
    "\n",
    "import seaborn as sns\n",
    "import matplotlib.pyplot as plt\n",
    "\n",
    "from sklearn import metrics\n",
    "from sklearn import preprocessing\n",
    "from sklearn.neighbors import KNeighborsRegressor\n",
    "from sklearn.ensemble import RandomForestRegressor\n",
    "from sklearn.model_selection import train_test_split\n",
    "# Loading the data\n",
    "df = pd.read_csv('Top 1000 IMDb movies.csv')"
   ]
  },
  {
   "cell_type": "code",
   "execution_count": 1170,
   "metadata": {},
   "outputs": [
    {
     "name": "stdout",
     "output_type": "stream",
     "text": [
      "<class 'pandas.core.frame.DataFrame'>\n",
      "RangeIndex: 1000 entries, 0 to 999\n",
      "Data columns (total 11 columns):\n",
      " #   Column            Non-Null Count  Dtype  \n",
      "---  ------            --------------  -----  \n",
      " 0   Unnamed: 0        1000 non-null   int64  \n",
      " 1   Movie_Name        1000 non-null   object \n",
      " 2   Year_of_Release   1000 non-null   int64  \n",
      " 3   C_Rating          984 non-null    object \n",
      " 4   Watch_Time_(min)  1000 non-null   int64  \n",
      " 5   Genre             1000 non-null   object \n",
      " 6   Movie_Rating      1000 non-null   float64\n",
      " 7   Metascore         844 non-null    float64\n",
      " 8   Votes             1000 non-null   int64  \n",
      " 9   Gross_($M)        814 non-null    float64\n",
      " 10  Description       1000 non-null   object \n",
      "dtypes: float64(3), int64(4), object(4)\n",
      "memory usage: 86.1+ KB\n"
     ]
    }
   ],
   "source": [
    "df.info()"
   ]
  },
  {
   "cell_type": "code",
   "execution_count": 1171,
   "metadata": {},
   "outputs": [
    {
     "data": {
      "text/html": [
       "<div>\n",
       "<style scoped>\n",
       "    .dataframe tbody tr th:only-of-type {\n",
       "        vertical-align: middle;\n",
       "    }\n",
       "\n",
       "    .dataframe tbody tr th {\n",
       "        vertical-align: top;\n",
       "    }\n",
       "\n",
       "    .dataframe thead th {\n",
       "        text-align: right;\n",
       "    }\n",
       "</style>\n",
       "<table border=\"1\" class=\"dataframe\">\n",
       "  <thead>\n",
       "    <tr style=\"text-align: right;\">\n",
       "      <th></th>\n",
       "      <th>Unnamed: 0</th>\n",
       "      <th>Movie_Name</th>\n",
       "      <th>Year_of_Release</th>\n",
       "      <th>C_Rating</th>\n",
       "      <th>Watch_Time_(min)</th>\n",
       "      <th>Genre</th>\n",
       "      <th>Movie_Rating</th>\n",
       "      <th>Metascore</th>\n",
       "      <th>Votes</th>\n",
       "      <th>Gross_($M)</th>\n",
       "      <th>Description</th>\n",
       "    </tr>\n",
       "  </thead>\n",
       "  <tbody>\n",
       "    <tr>\n",
       "      <th>0</th>\n",
       "      <td>0</td>\n",
       "      <td>The Shawshank Redemption</td>\n",
       "      <td>1994</td>\n",
       "      <td>R</td>\n",
       "      <td>142</td>\n",
       "      <td>Drama</td>\n",
       "      <td>9.3</td>\n",
       "      <td>82.0</td>\n",
       "      <td>2735235</td>\n",
       "      <td>28.34</td>\n",
       "      <td>Over the course of several years, two convicts...</td>\n",
       "    </tr>\n",
       "    <tr>\n",
       "      <th>1</th>\n",
       "      <td>1</td>\n",
       "      <td>The Godfather</td>\n",
       "      <td>1972</td>\n",
       "      <td>R</td>\n",
       "      <td>175</td>\n",
       "      <td>Crime, Drama</td>\n",
       "      <td>9.2</td>\n",
       "      <td>100.0</td>\n",
       "      <td>1902109</td>\n",
       "      <td>134.97</td>\n",
       "      <td>The aging patriarch of an organized crime dyna...</td>\n",
       "    </tr>\n",
       "    <tr>\n",
       "      <th>2</th>\n",
       "      <td>2</td>\n",
       "      <td>The Dark Knight</td>\n",
       "      <td>2008</td>\n",
       "      <td>PG-13</td>\n",
       "      <td>152</td>\n",
       "      <td>Action, Crime, Drama</td>\n",
       "      <td>9.0</td>\n",
       "      <td>84.0</td>\n",
       "      <td>2708419</td>\n",
       "      <td>534.86</td>\n",
       "      <td>When the menace known as the Joker wreaks havo...</td>\n",
       "    </tr>\n",
       "    <tr>\n",
       "      <th>3</th>\n",
       "      <td>3</td>\n",
       "      <td>Schindler's List</td>\n",
       "      <td>1993</td>\n",
       "      <td>R</td>\n",
       "      <td>195</td>\n",
       "      <td>Biography, Drama, History</td>\n",
       "      <td>9.0</td>\n",
       "      <td>95.0</td>\n",
       "      <td>1380843</td>\n",
       "      <td>96.90</td>\n",
       "      <td>In German-occupied Poland during World War II,...</td>\n",
       "    </tr>\n",
       "    <tr>\n",
       "      <th>4</th>\n",
       "      <td>4</td>\n",
       "      <td>The Lord of the Rings: The Return of the King</td>\n",
       "      <td>2003</td>\n",
       "      <td>PG-13</td>\n",
       "      <td>201</td>\n",
       "      <td>Action, Adventure, Drama</td>\n",
       "      <td>9.0</td>\n",
       "      <td>94.0</td>\n",
       "      <td>1881383</td>\n",
       "      <td>377.85</td>\n",
       "      <td>Gandalf and Aragorn lead the World of Men agai...</td>\n",
       "    </tr>\n",
       "    <tr>\n",
       "      <th>5</th>\n",
       "      <td>5</td>\n",
       "      <td>12 Angry Men</td>\n",
       "      <td>1957</td>\n",
       "      <td>Approved</td>\n",
       "      <td>96</td>\n",
       "      <td>Crime, Drama</td>\n",
       "      <td>9.0</td>\n",
       "      <td>97.0</td>\n",
       "      <td>809518</td>\n",
       "      <td>4.36</td>\n",
       "      <td>The jury in a New York City murder trial is fr...</td>\n",
       "    </tr>\n",
       "    <tr>\n",
       "      <th>6</th>\n",
       "      <td>6</td>\n",
       "      <td>The Godfather Part II</td>\n",
       "      <td>1974</td>\n",
       "      <td>R</td>\n",
       "      <td>202</td>\n",
       "      <td>Crime, Drama</td>\n",
       "      <td>9.0</td>\n",
       "      <td>90.0</td>\n",
       "      <td>1296679</td>\n",
       "      <td>57.30</td>\n",
       "      <td>The early life and career of Vito Corleone in ...</td>\n",
       "    </tr>\n",
       "    <tr>\n",
       "      <th>7</th>\n",
       "      <td>7</td>\n",
       "      <td>Pulp Fiction</td>\n",
       "      <td>1994</td>\n",
       "      <td>R</td>\n",
       "      <td>154</td>\n",
       "      <td>Crime, Drama</td>\n",
       "      <td>8.9</td>\n",
       "      <td>95.0</td>\n",
       "      <td>2101929</td>\n",
       "      <td>107.93</td>\n",
       "      <td>The lives of two mob hitmen, a boxer, a gangst...</td>\n",
       "    </tr>\n",
       "    <tr>\n",
       "      <th>8</th>\n",
       "      <td>8</td>\n",
       "      <td>Inception</td>\n",
       "      <td>2010</td>\n",
       "      <td>PG-13</td>\n",
       "      <td>148</td>\n",
       "      <td>Action, Adventure, Sci-Fi</td>\n",
       "      <td>8.8</td>\n",
       "      <td>74.0</td>\n",
       "      <td>2404179</td>\n",
       "      <td>292.58</td>\n",
       "      <td>A thief who steals corporate secrets through t...</td>\n",
       "    </tr>\n",
       "    <tr>\n",
       "      <th>9</th>\n",
       "      <td>9</td>\n",
       "      <td>Fight Club</td>\n",
       "      <td>1999</td>\n",
       "      <td>R</td>\n",
       "      <td>139</td>\n",
       "      <td>Drama</td>\n",
       "      <td>8.8</td>\n",
       "      <td>66.0</td>\n",
       "      <td>2177808</td>\n",
       "      <td>37.03</td>\n",
       "      <td>An insomniac office worker and a devil-may-car...</td>\n",
       "    </tr>\n",
       "    <tr>\n",
       "      <th>10</th>\n",
       "      <td>10</td>\n",
       "      <td>The Lord of the Rings: The Fellowship of the Ring</td>\n",
       "      <td>2001</td>\n",
       "      <td>PG-13</td>\n",
       "      <td>178</td>\n",
       "      <td>Action, Adventure, Drama</td>\n",
       "      <td>8.8</td>\n",
       "      <td>92.0</td>\n",
       "      <td>1910207</td>\n",
       "      <td>315.54</td>\n",
       "      <td>A meek Hobbit from the Shire and eight compani...</td>\n",
       "    </tr>\n",
       "    <tr>\n",
       "      <th>11</th>\n",
       "      <td>11</td>\n",
       "      <td>Forrest Gump</td>\n",
       "      <td>1994</td>\n",
       "      <td>PG-13</td>\n",
       "      <td>142</td>\n",
       "      <td>Drama, Romance</td>\n",
       "      <td>8.8</td>\n",
       "      <td>82.0</td>\n",
       "      <td>2128491</td>\n",
       "      <td>330.25</td>\n",
       "      <td>The presidencies of Kennedy and Johnson, the V...</td>\n",
       "    </tr>\n",
       "    <tr>\n",
       "      <th>12</th>\n",
       "      <td>12</td>\n",
       "      <td>The Good, the Bad and the Ugly</td>\n",
       "      <td>1966</td>\n",
       "      <td>Approved</td>\n",
       "      <td>178</td>\n",
       "      <td>Adventure, Western</td>\n",
       "      <td>8.8</td>\n",
       "      <td>90.0</td>\n",
       "      <td>774990</td>\n",
       "      <td>6.10</td>\n",
       "      <td>A bounty hunting scam joins two men in an unea...</td>\n",
       "    </tr>\n",
       "    <tr>\n",
       "      <th>13</th>\n",
       "      <td>13</td>\n",
       "      <td>The Lord of the Rings: The Two Towers</td>\n",
       "      <td>2002</td>\n",
       "      <td>PG-13</td>\n",
       "      <td>179</td>\n",
       "      <td>Action, Adventure, Drama</td>\n",
       "      <td>8.8</td>\n",
       "      <td>87.0</td>\n",
       "      <td>1698350</td>\n",
       "      <td>342.55</td>\n",
       "      <td>While Frodo and Sam edge closer to Mordor with...</td>\n",
       "    </tr>\n",
       "    <tr>\n",
       "      <th>14</th>\n",
       "      <td>14</td>\n",
       "      <td>Jai Bhim</td>\n",
       "      <td>2021</td>\n",
       "      <td>TV-MA</td>\n",
       "      <td>164</td>\n",
       "      <td>Crime, Drama, Mystery</td>\n",
       "      <td>8.8</td>\n",
       "      <td>NaN</td>\n",
       "      <td>206160</td>\n",
       "      <td>NaN</td>\n",
       "      <td>When a tribal man is arrested for a case of al...</td>\n",
       "    </tr>\n",
       "    <tr>\n",
       "      <th>15</th>\n",
       "      <td>15</td>\n",
       "      <td>777 Charlie</td>\n",
       "      <td>2022</td>\n",
       "      <td>NaN</td>\n",
       "      <td>164</td>\n",
       "      <td>Adventure, Comedy, Drama</td>\n",
       "      <td>8.8</td>\n",
       "      <td>NaN</td>\n",
       "      <td>34505</td>\n",
       "      <td>NaN</td>\n",
       "      <td>Dharma is stuck in a rut with his negative and...</td>\n",
       "    </tr>\n",
       "    <tr>\n",
       "      <th>16</th>\n",
       "      <td>16</td>\n",
       "      <td>Rocketry: The Nambi Effect</td>\n",
       "      <td>2022</td>\n",
       "      <td>NaN</td>\n",
       "      <td>157</td>\n",
       "      <td>Biography, Drama</td>\n",
       "      <td>8.8</td>\n",
       "      <td>NaN</td>\n",
       "      <td>52856</td>\n",
       "      <td>NaN</td>\n",
       "      <td>Based on the life of Indian Space Research Org...</td>\n",
       "    </tr>\n",
       "    <tr>\n",
       "      <th>17</th>\n",
       "      <td>17</td>\n",
       "      <td>The Matrix</td>\n",
       "      <td>1999</td>\n",
       "      <td>R</td>\n",
       "      <td>136</td>\n",
       "      <td>Action, Sci-Fi</td>\n",
       "      <td>8.7</td>\n",
       "      <td>73.0</td>\n",
       "      <td>1951328</td>\n",
       "      <td>171.48</td>\n",
       "      <td>When a beautiful stranger leads computer hacke...</td>\n",
       "    </tr>\n",
       "    <tr>\n",
       "      <th>18</th>\n",
       "      <td>18</td>\n",
       "      <td>Goodfellas</td>\n",
       "      <td>1990</td>\n",
       "      <td>R</td>\n",
       "      <td>145</td>\n",
       "      <td>Biography, Crime, Drama</td>\n",
       "      <td>8.7</td>\n",
       "      <td>92.0</td>\n",
       "      <td>1187250</td>\n",
       "      <td>46.84</td>\n",
       "      <td>The story of Henry Hill and his life in the mo...</td>\n",
       "    </tr>\n",
       "    <tr>\n",
       "      <th>19</th>\n",
       "      <td>19</td>\n",
       "      <td>One Flew Over the Cuckoo's Nest</td>\n",
       "      <td>1975</td>\n",
       "      <td>R</td>\n",
       "      <td>133</td>\n",
       "      <td>Drama</td>\n",
       "      <td>8.7</td>\n",
       "      <td>84.0</td>\n",
       "      <td>1025777</td>\n",
       "      <td>112.00</td>\n",
       "      <td>In the Fall of 1963, a Korean War veteran and ...</td>\n",
       "    </tr>\n",
       "  </tbody>\n",
       "</table>\n",
       "</div>"
      ],
      "text/plain": [
       "    Unnamed: 0                                         Movie_Name  \\\n",
       "0            0                           The Shawshank Redemption   \n",
       "1            1                                      The Godfather   \n",
       "2            2                                    The Dark Knight   \n",
       "3            3                                   Schindler's List   \n",
       "4            4      The Lord of the Rings: The Return of the King   \n",
       "5            5                                       12 Angry Men   \n",
       "6            6                              The Godfather Part II   \n",
       "7            7                                       Pulp Fiction   \n",
       "8            8                                          Inception   \n",
       "9            9                                         Fight Club   \n",
       "10          10  The Lord of the Rings: The Fellowship of the Ring   \n",
       "11          11                                       Forrest Gump   \n",
       "12          12                     The Good, the Bad and the Ugly   \n",
       "13          13              The Lord of the Rings: The Two Towers   \n",
       "14          14                                           Jai Bhim   \n",
       "15          15                                        777 Charlie   \n",
       "16          16                         Rocketry: The Nambi Effect   \n",
       "17          17                                         The Matrix   \n",
       "18          18                                         Goodfellas   \n",
       "19          19                    One Flew Over the Cuckoo's Nest   \n",
       "\n",
       "    Year_of_Release  C_Rating  Watch_Time_(min)  \\\n",
       "0              1994         R               142   \n",
       "1              1972         R               175   \n",
       "2              2008     PG-13               152   \n",
       "3              1993         R               195   \n",
       "4              2003     PG-13               201   \n",
       "5              1957  Approved                96   \n",
       "6              1974         R               202   \n",
       "7              1994         R               154   \n",
       "8              2010     PG-13               148   \n",
       "9              1999         R               139   \n",
       "10             2001     PG-13               178   \n",
       "11             1994     PG-13               142   \n",
       "12             1966  Approved               178   \n",
       "13             2002     PG-13               179   \n",
       "14             2021     TV-MA               164   \n",
       "15             2022       NaN               164   \n",
       "16             2022       NaN               157   \n",
       "17             1999         R               136   \n",
       "18             1990         R               145   \n",
       "19             1975         R               133   \n",
       "\n",
       "                                    Genre  Movie_Rating  Metascore    Votes  \\\n",
       "0                       Drama                       9.3       82.0  2735235   \n",
       "1                Crime, Drama                       9.2      100.0  1902109   \n",
       "2        Action, Crime, Drama                       9.0       84.0  2708419   \n",
       "3   Biography, Drama, History                       9.0       95.0  1380843   \n",
       "4    Action, Adventure, Drama                       9.0       94.0  1881383   \n",
       "5                Crime, Drama                       9.0       97.0   809518   \n",
       "6                Crime, Drama                       9.0       90.0  1296679   \n",
       "7                Crime, Drama                       8.9       95.0  2101929   \n",
       "8   Action, Adventure, Sci-Fi                       8.8       74.0  2404179   \n",
       "9                       Drama                       8.8       66.0  2177808   \n",
       "10   Action, Adventure, Drama                       8.8       92.0  1910207   \n",
       "11             Drama, Romance                       8.8       82.0  2128491   \n",
       "12         Adventure, Western                       8.8       90.0   774990   \n",
       "13   Action, Adventure, Drama                       8.8       87.0  1698350   \n",
       "14      Crime, Drama, Mystery                       8.8        NaN   206160   \n",
       "15   Adventure, Comedy, Drama                       8.8        NaN    34505   \n",
       "16           Biography, Drama                       8.8        NaN    52856   \n",
       "17             Action, Sci-Fi                       8.7       73.0  1951328   \n",
       "18    Biography, Crime, Drama                       8.7       92.0  1187250   \n",
       "19                      Drama                       8.7       84.0  1025777   \n",
       "\n",
       "    Gross_($M)                                        Description  \n",
       "0        28.34  Over the course of several years, two convicts...  \n",
       "1       134.97  The aging patriarch of an organized crime dyna...  \n",
       "2       534.86  When the menace known as the Joker wreaks havo...  \n",
       "3        96.90  In German-occupied Poland during World War II,...  \n",
       "4       377.85  Gandalf and Aragorn lead the World of Men agai...  \n",
       "5         4.36  The jury in a New York City murder trial is fr...  \n",
       "6        57.30  The early life and career of Vito Corleone in ...  \n",
       "7       107.93  The lives of two mob hitmen, a boxer, a gangst...  \n",
       "8       292.58  A thief who steals corporate secrets through t...  \n",
       "9        37.03  An insomniac office worker and a devil-may-car...  \n",
       "10      315.54  A meek Hobbit from the Shire and eight compani...  \n",
       "11      330.25  The presidencies of Kennedy and Johnson, the V...  \n",
       "12        6.10  A bounty hunting scam joins two men in an unea...  \n",
       "13      342.55  While Frodo and Sam edge closer to Mordor with...  \n",
       "14         NaN  When a tribal man is arrested for a case of al...  \n",
       "15         NaN  Dharma is stuck in a rut with his negative and...  \n",
       "16         NaN  Based on the life of Indian Space Research Org...  \n",
       "17      171.48  When a beautiful stranger leads computer hacke...  \n",
       "18       46.84  The story of Henry Hill and his life in the mo...  \n",
       "19      112.00  In the Fall of 1963, a Korean War veteran and ...  "
      ]
     },
     "execution_count": 1171,
     "metadata": {},
     "output_type": "execute_result"
    }
   ],
   "source": [
    "df.head(20)"
   ]
  },
  {
   "cell_type": "code",
   "execution_count": 1172,
   "metadata": {},
   "outputs": [
    {
     "data": {
      "text/plain": [
       "Unnamed: 0            0\n",
       "Movie_Name            0\n",
       "Year_of_Release       0\n",
       "C_Rating             16\n",
       "Watch_Time_(min)      0\n",
       "Genre                 0\n",
       "Movie_Rating          0\n",
       "Metascore           156\n",
       "Votes                 0\n",
       "Gross_($M)          186\n",
       "Description           0\n",
       "dtype: int64"
      ]
     },
     "execution_count": 1172,
     "metadata": {},
     "output_type": "execute_result"
    }
   ],
   "source": [
    "df.isnull().sum()"
   ]
  },
  {
   "attachments": {},
   "cell_type": "markdown",
   "metadata": {},
   "source": [
    "Missing Value Imputation"
   ]
  },
  {
   "cell_type": "code",
   "execution_count": 1173,
   "metadata": {},
   "outputs": [],
   "source": [
    "df['Metascore'] = df['Metascore'].fillna(0)"
   ]
  },
  {
   "cell_type": "code",
   "execution_count": 1174,
   "metadata": {},
   "outputs": [],
   "source": [
    "df['Gross_($M)'] = df['Gross_($M)'].fillna(df['Gross_($M)'].median())"
   ]
  },
  {
   "cell_type": "code",
   "execution_count": 1175,
   "metadata": {},
   "outputs": [],
   "source": [
    "#Replacing the content rating with Value R as it has highest frequency\n",
    "df[\"C_Rating\"] = df[\"C_Rating\"].fillna(\"R\") "
   ]
  },
  {
   "attachments": {},
   "cell_type": "markdown",
   "metadata": {},
   "source": [
    "Label Encoding"
   ]
  },
  {
   "cell_type": "code",
   "execution_count": 1176,
   "metadata": {},
   "outputs": [],
   "source": [
    "le = preprocessing.LabelEncoder()\n",
    "df['Movie_Name'] = le.fit_transform(df['Movie_Name'])"
   ]
  },
  {
   "cell_type": "code",
   "execution_count": 1177,
   "metadata": {},
   "outputs": [],
   "source": [
    "le = preprocessing.LabelEncoder()\n",
    "df['C_Rating'] = le.fit_transform(df['C_Rating'])"
   ]
  },
  {
   "cell_type": "code",
   "execution_count": 1178,
   "metadata": {},
   "outputs": [],
   "source": [
    "le = preprocessing.LabelEncoder()\n",
    "df['Genre'] = le.fit_transform(df['Genre'])"
   ]
  },
  {
   "cell_type": "code",
   "execution_count": 1179,
   "metadata": {},
   "outputs": [],
   "source": [
    "le = preprocessing.LabelEncoder()\n",
    "df['Description'] = le.fit_transform(df['Description'])"
   ]
  },
  {
   "attachments": {},
   "cell_type": "markdown",
   "metadata": {},
   "source": [
    "Outliers"
   ]
  },
  {
   "cell_type": "code",
   "execution_count": 1180,
   "metadata": {},
   "outputs": [],
   "source": [
    "df_outliers = df.copy()"
   ]
  },
  {
   "cell_type": "code",
   "execution_count": 1181,
   "metadata": {},
   "outputs": [
    {
     "name": "stdout",
     "output_type": "stream",
     "text": [
      "1919.3236658402664\n",
      "2063.9503341597338\n"
     ]
    }
   ],
   "source": [
    "uppper_boundary=df_outliers['Year_of_Release'].mean() + 3* df_outliers['Year_of_Release'].std()\n",
    "lower_boundary=df_outliers['Year_of_Release'].mean() - 3* df_outliers['Year_of_Release'].std()\n",
    "print(lower_boundary), print(uppper_boundary)\n",
    "\n",
    "df_outliers.loc[df_outliers['Year_of_Release']>=uppper_boundary, 'Year_of_Release']=uppper_boundary\n",
    "df_outliers.loc[df_outliers['Year_of_Release']<=lower_boundary, 'Year_of_Release']=lower_boundary"
   ]
  },
  {
   "cell_type": "code",
   "execution_count": 1182,
   "metadata": {},
   "outputs": [
    {
     "name": "stdout",
     "output_type": "stream",
     "text": [
      "37.966799921496616\n",
      "210.23920007850336\n"
     ]
    }
   ],
   "source": [
    "uppper_boundary=df_outliers['Watch_Time_(min)'].mean() + 3* df_outliers['Watch_Time_(min)'].std()\n",
    "lower_boundary=df_outliers['Watch_Time_(min)'].mean() - 3* df_outliers['Watch_Time_(min)'].std()\n",
    "print(lower_boundary), print(uppper_boundary)\n",
    "\n",
    "df_outliers.loc[df_outliers['Watch_Time_(min)']>=uppper_boundary, 'Watch_Time_(min)']=uppper_boundary\n",
    "df_outliers.loc[df_outliers['Watch_Time_(min)']<=lower_boundary, 'Watch_Time_(min)']=lower_boundary"
   ]
  },
  {
   "attachments": {},
   "cell_type": "markdown",
   "metadata": {},
   "source": [
    "Feature selection"
   ]
  },
  {
   "cell_type": "code",
   "execution_count": 1183,
   "metadata": {},
   "outputs": [],
   "source": [
    "features = ['Year_of_Release', 'C_Rating', 'Watch_Time_(min)', 'Genre', 'Metascore', 'Votes', 'Gross_($M)']\n",
    "X = df_outliers[features]\n",
    "y = df_outliers['Movie_Rating']"
   ]
  },
  {
   "cell_type": "code",
   "execution_count": 1184,
   "metadata": {},
   "outputs": [
    {
     "data": {
      "text/html": [
       "<div>\n",
       "<style scoped>\n",
       "    .dataframe tbody tr th:only-of-type {\n",
       "        vertical-align: middle;\n",
       "    }\n",
       "\n",
       "    .dataframe tbody tr th {\n",
       "        vertical-align: top;\n",
       "    }\n",
       "\n",
       "    .dataframe thead th {\n",
       "        text-align: right;\n",
       "    }\n",
       "</style>\n",
       "<table border=\"1\" class=\"dataframe\">\n",
       "  <thead>\n",
       "    <tr style=\"text-align: right;\">\n",
       "      <th></th>\n",
       "      <th>Unnamed: 0</th>\n",
       "      <th>Movie_Name</th>\n",
       "      <th>Year_of_Release</th>\n",
       "      <th>C_Rating</th>\n",
       "      <th>Watch_Time_(min)</th>\n",
       "      <th>Genre</th>\n",
       "      <th>Movie_Rating</th>\n",
       "      <th>Metascore</th>\n",
       "      <th>Votes</th>\n",
       "      <th>Gross_($M)</th>\n",
       "      <th>Description</th>\n",
       "    </tr>\n",
       "  </thead>\n",
       "  <tbody>\n",
       "    <tr>\n",
       "      <th>0</th>\n",
       "      <td>0</td>\n",
       "      <td>866</td>\n",
       "      <td>1994</td>\n",
       "      <td>9</td>\n",
       "      <td>142</td>\n",
       "      <td>133</td>\n",
       "      <td>9.3</td>\n",
       "      <td>82.0</td>\n",
       "      <td>2735235</td>\n",
       "      <td>28.34</td>\n",
       "      <td>741</td>\n",
       "    </tr>\n",
       "    <tr>\n",
       "      <th>1</th>\n",
       "      <td>1</td>\n",
       "      <td>758</td>\n",
       "      <td>1972</td>\n",
       "      <td>9</td>\n",
       "      <td>175</td>\n",
       "      <td>120</td>\n",
       "      <td>9.2</td>\n",
       "      <td>100.0</td>\n",
       "      <td>1902109</td>\n",
       "      <td>134.97</td>\n",
       "      <td>794</td>\n",
       "    </tr>\n",
       "    <tr>\n",
       "      <th>2</th>\n",
       "      <td>2</td>\n",
       "      <td>730</td>\n",
       "      <td>2008</td>\n",
       "      <td>7</td>\n",
       "      <td>152</td>\n",
       "      <td>20</td>\n",
       "      <td>9.0</td>\n",
       "      <td>84.0</td>\n",
       "      <td>2708419</td>\n",
       "      <td>534.86</td>\n",
       "      <td>973</td>\n",
       "    </tr>\n",
       "    <tr>\n",
       "      <th>3</th>\n",
       "      <td>3</td>\n",
       "      <td>609</td>\n",
       "      <td>1993</td>\n",
       "      <td>9</td>\n",
       "      <td>195</td>\n",
       "      <td>84</td>\n",
       "      <td>9.0</td>\n",
       "      <td>95.0</td>\n",
       "      <td>1380843</td>\n",
       "      <td>96.90</td>\n",
       "      <td>632</td>\n",
       "    </tr>\n",
       "    <tr>\n",
       "      <th>4</th>\n",
       "      <td>4</td>\n",
       "      <td>812</td>\n",
       "      <td>2003</td>\n",
       "      <td>7</td>\n",
       "      <td>201</td>\n",
       "      <td>4</td>\n",
       "      <td>9.0</td>\n",
       "      <td>94.0</td>\n",
       "      <td>1881383</td>\n",
       "      <td>377.85</td>\n",
       "      <td>594</td>\n",
       "    </tr>\n",
       "    <tr>\n",
       "      <th>5</th>\n",
       "      <td>5</td>\n",
       "      <td>0</td>\n",
       "      <td>1957</td>\n",
       "      <td>0</td>\n",
       "      <td>96</td>\n",
       "      <td>120</td>\n",
       "      <td>9.0</td>\n",
       "      <td>97.0</td>\n",
       "      <td>809518</td>\n",
       "      <td>4.36</td>\n",
       "      <td>815</td>\n",
       "    </tr>\n",
       "    <tr>\n",
       "      <th>6</th>\n",
       "      <td>6</td>\n",
       "      <td>759</td>\n",
       "      <td>1974</td>\n",
       "      <td>9</td>\n",
       "      <td>202</td>\n",
       "      <td>120</td>\n",
       "      <td>9.0</td>\n",
       "      <td>90.0</td>\n",
       "      <td>1296679</td>\n",
       "      <td>57.30</td>\n",
       "      <td>807</td>\n",
       "    </tr>\n",
       "    <tr>\n",
       "      <th>7</th>\n",
       "      <td>7</td>\n",
       "      <td>562</td>\n",
       "      <td>1994</td>\n",
       "      <td>9</td>\n",
       "      <td>154</td>\n",
       "      <td>120</td>\n",
       "      <td>8.9</td>\n",
       "      <td>95.0</td>\n",
       "      <td>2101929</td>\n",
       "      <td>107.93</td>\n",
       "      <td>826</td>\n",
       "    </tr>\n",
       "    <tr>\n",
       "      <th>8</th>\n",
       "      <td>8</td>\n",
       "      <td>358</td>\n",
       "      <td>2010</td>\n",
       "      <td>7</td>\n",
       "      <td>148</td>\n",
       "      <td>9</td>\n",
       "      <td>8.8</td>\n",
       "      <td>74.0</td>\n",
       "      <td>2404179</td>\n",
       "      <td>292.58</td>\n",
       "      <td>301</td>\n",
       "    </tr>\n",
       "    <tr>\n",
       "      <th>9</th>\n",
       "      <td>9</td>\n",
       "      <td>262</td>\n",
       "      <td>1999</td>\n",
       "      <td>9</td>\n",
       "      <td>139</td>\n",
       "      <td>133</td>\n",
       "      <td>8.8</td>\n",
       "      <td>66.0</td>\n",
       "      <td>2177808</td>\n",
       "      <td>37.03</td>\n",
       "      <td>476</td>\n",
       "    </tr>\n",
       "    <tr>\n",
       "      <th>10</th>\n",
       "      <td>10</td>\n",
       "      <td>811</td>\n",
       "      <td>2001</td>\n",
       "      <td>7</td>\n",
       "      <td>178</td>\n",
       "      <td>4</td>\n",
       "      <td>8.8</td>\n",
       "      <td>92.0</td>\n",
       "      <td>1910207</td>\n",
       "      <td>315.54</td>\n",
       "      <td>173</td>\n",
       "    </tr>\n",
       "    <tr>\n",
       "      <th>11</th>\n",
       "      <td>11</td>\n",
       "      <td>271</td>\n",
       "      <td>1994</td>\n",
       "      <td>7</td>\n",
       "      <td>142</td>\n",
       "      <td>166</td>\n",
       "      <td>8.8</td>\n",
       "      <td>82.0</td>\n",
       "      <td>2128491</td>\n",
       "      <td>330.25</td>\n",
       "      <td>833</td>\n",
       "    </tr>\n",
       "    <tr>\n",
       "      <th>12</th>\n",
       "      <td>12</td>\n",
       "      <td>761</td>\n",
       "      <td>1966</td>\n",
       "      <td>0</td>\n",
       "      <td>178</td>\n",
       "      <td>59</td>\n",
       "      <td>8.8</td>\n",
       "      <td>90.0</td>\n",
       "      <td>774990</td>\n",
       "      <td>6.10</td>\n",
       "      <td>41</td>\n",
       "    </tr>\n",
       "    <tr>\n",
       "      <th>13</th>\n",
       "      <td>13</td>\n",
       "      <td>813</td>\n",
       "      <td>2002</td>\n",
       "      <td>7</td>\n",
       "      <td>179</td>\n",
       "      <td>4</td>\n",
       "      <td>8.8</td>\n",
       "      <td>87.0</td>\n",
       "      <td>1698350</td>\n",
       "      <td>342.55</td>\n",
       "      <td>979</td>\n",
       "    </tr>\n",
       "    <tr>\n",
       "      <th>14</th>\n",
       "      <td>14</td>\n",
       "      <td>376</td>\n",
       "      <td>2021</td>\n",
       "      <td>11</td>\n",
       "      <td>164</td>\n",
       "      <td>125</td>\n",
       "      <td>8.8</td>\n",
       "      <td>0.0</td>\n",
       "      <td>206160</td>\n",
       "      <td>23.36</td>\n",
       "      <td>967</td>\n",
       "    </tr>\n",
       "    <tr>\n",
       "      <th>15</th>\n",
       "      <td>15</td>\n",
       "      <td>14</td>\n",
       "      <td>2022</td>\n",
       "      <td>9</td>\n",
       "      <td>164</td>\n",
       "      <td>38</td>\n",
       "      <td>8.8</td>\n",
       "      <td>0.0</td>\n",
       "      <td>34505</td>\n",
       "      <td>23.36</td>\n",
       "      <td>546</td>\n",
       "    </tr>\n",
       "    <tr>\n",
       "      <th>16</th>\n",
       "      <td>16</td>\n",
       "      <td>589</td>\n",
       "      <td>2022</td>\n",
       "      <td>9</td>\n",
       "      <td>157</td>\n",
       "      <td>82</td>\n",
       "      <td>8.8</td>\n",
       "      <td>0.0</td>\n",
       "      <td>52856</td>\n",
       "      <td>23.36</td>\n",
       "      <td>518</td>\n",
       "    </tr>\n",
       "    <tr>\n",
       "      <th>17</th>\n",
       "      <td>17</td>\n",
       "      <td>826</td>\n",
       "      <td>1999</td>\n",
       "      <td>9</td>\n",
       "      <td>136</td>\n",
       "      <td>33</td>\n",
       "      <td>8.7</td>\n",
       "      <td>73.0</td>\n",
       "      <td>1951328</td>\n",
       "      <td>171.48</td>\n",
       "      <td>955</td>\n",
       "    </tr>\n",
       "    <tr>\n",
       "      <th>18</th>\n",
       "      <td>18</td>\n",
       "      <td>296</td>\n",
       "      <td>1990</td>\n",
       "      <td>9</td>\n",
       "      <td>145</td>\n",
       "      <td>81</td>\n",
       "      <td>8.7</td>\n",
       "      <td>92.0</td>\n",
       "      <td>1187250</td>\n",
       "      <td>46.84</td>\n",
       "      <td>845</td>\n",
       "    </tr>\n",
       "    <tr>\n",
       "      <th>19</th>\n",
       "      <td>19</td>\n",
       "      <td>524</td>\n",
       "      <td>1975</td>\n",
       "      <td>9</td>\n",
       "      <td>133</td>\n",
       "      <td>133</td>\n",
       "      <td>8.7</td>\n",
       "      <td>84.0</td>\n",
       "      <td>1025777</td>\n",
       "      <td>112.00</td>\n",
       "      <td>669</td>\n",
       "    </tr>\n",
       "  </tbody>\n",
       "</table>\n",
       "</div>"
      ],
      "text/plain": [
       "    Unnamed: 0  Movie_Name  Year_of_Release  C_Rating  Watch_Time_(min)  \\\n",
       "0            0         866             1994         9               142   \n",
       "1            1         758             1972         9               175   \n",
       "2            2         730             2008         7               152   \n",
       "3            3         609             1993         9               195   \n",
       "4            4         812             2003         7               201   \n",
       "5            5           0             1957         0                96   \n",
       "6            6         759             1974         9               202   \n",
       "7            7         562             1994         9               154   \n",
       "8            8         358             2010         7               148   \n",
       "9            9         262             1999         9               139   \n",
       "10          10         811             2001         7               178   \n",
       "11          11         271             1994         7               142   \n",
       "12          12         761             1966         0               178   \n",
       "13          13         813             2002         7               179   \n",
       "14          14         376             2021        11               164   \n",
       "15          15          14             2022         9               164   \n",
       "16          16         589             2022         9               157   \n",
       "17          17         826             1999         9               136   \n",
       "18          18         296             1990         9               145   \n",
       "19          19         524             1975         9               133   \n",
       "\n",
       "    Genre  Movie_Rating  Metascore    Votes  Gross_($M)  Description  \n",
       "0     133           9.3       82.0  2735235       28.34          741  \n",
       "1     120           9.2      100.0  1902109      134.97          794  \n",
       "2      20           9.0       84.0  2708419      534.86          973  \n",
       "3      84           9.0       95.0  1380843       96.90          632  \n",
       "4       4           9.0       94.0  1881383      377.85          594  \n",
       "5     120           9.0       97.0   809518        4.36          815  \n",
       "6     120           9.0       90.0  1296679       57.30          807  \n",
       "7     120           8.9       95.0  2101929      107.93          826  \n",
       "8       9           8.8       74.0  2404179      292.58          301  \n",
       "9     133           8.8       66.0  2177808       37.03          476  \n",
       "10      4           8.8       92.0  1910207      315.54          173  \n",
       "11    166           8.8       82.0  2128491      330.25          833  \n",
       "12     59           8.8       90.0   774990        6.10           41  \n",
       "13      4           8.8       87.0  1698350      342.55          979  \n",
       "14    125           8.8        0.0   206160       23.36          967  \n",
       "15     38           8.8        0.0    34505       23.36          546  \n",
       "16     82           8.8        0.0    52856       23.36          518  \n",
       "17     33           8.7       73.0  1951328      171.48          955  \n",
       "18     81           8.7       92.0  1187250       46.84          845  \n",
       "19    133           8.7       84.0  1025777      112.00          669  "
      ]
     },
     "execution_count": 1184,
     "metadata": {},
     "output_type": "execute_result"
    }
   ],
   "source": [
    "df.head(20)"
   ]
  },
  {
   "cell_type": "code",
   "execution_count": 1185,
   "metadata": {},
   "outputs": [],
   "source": [
    "X_train, X_test, y_train, y_test = train_test_split(X, y, test_size = 0.3, random_state = 52)"
   ]
  },
  {
   "cell_type": "code",
   "execution_count": 1186,
   "metadata": {},
   "outputs": [],
   "source": [
    "from sklearn.pipeline import make_pipeline"
   ]
  },
  {
   "cell_type": "code",
   "execution_count": 1187,
   "metadata": {},
   "outputs": [
    {
     "name": "stdout",
     "output_type": "stream",
     "text": [
      "0.6607554017700936\n"
     ]
    }
   ],
   "source": [
    "# create a pipeline object\n",
    "pipe = make_pipeline(\n",
    "RandomForestRegressor()\n",
    ")\n",
    "pipe.fit(X_train, y_train)\n",
    "print(pipe.score(X_test, y_test))"
   ]
  },
  {
   "cell_type": "code",
   "execution_count": 1188,
   "metadata": {},
   "outputs": [
    {
     "name": "stdout",
     "output_type": "stream",
     "text": [
      "0.18951939016066288\n"
     ]
    }
   ],
   "source": [
    "# create a pipeline object\n",
    "pipe = make_pipeline(\n",
    "KNeighborsRegressor()\n",
    ")\n",
    "pipe.fit(X_train, y_train)\n",
    "print(pipe.score(X_test, y_test))"
   ]
  },
  {
   "attachments": {},
   "cell_type": "markdown",
   "metadata": {},
   "source": [
    "Feature Transformation"
   ]
  },
  {
   "cell_type": "code",
   "execution_count": 1189,
   "metadata": {},
   "outputs": [
    {
     "name": "stdout",
     "output_type": "stream",
     "text": [
      "0.665061230576858\n"
     ]
    }
   ],
   "source": [
    "from sklearn.preprocessing import RobustScaler\n",
    "# create a pipeline object\n",
    "pipe = make_pipeline(\n",
    "RobustScaler(),\n",
    "RandomForestRegressor()\n",
    ")\n",
    "\n",
    "pipe.fit(X_train, y_train)\n",
    "print(pipe.score(X_test, y_test))"
   ]
  },
  {
   "cell_type": "code",
   "execution_count": 1190,
   "metadata": {},
   "outputs": [
    {
     "name": "stdout",
     "output_type": "stream",
     "text": [
      "0.5467675417715858\n"
     ]
    }
   ],
   "source": [
    "# create a pipeline object\n",
    "pipe = make_pipeline(\n",
    "RobustScaler(),\n",
    "KNeighborsRegressor()\n",
    ")\n",
    "pipe.fit(X_train, y_train)\n",
    "print(pipe.score(X_test, y_test))"
   ]
  },
  {
   "attachments": {},
   "cell_type": "markdown",
   "metadata": {},
   "source": [
    "Metrics"
   ]
  },
  {
   "cell_type": "code",
   "execution_count": 1191,
   "metadata": {},
   "outputs": [
    {
     "data": {
      "text/plain": [
       "Pipeline(steps=[('robustscaler', RobustScaler()),\n",
       "                ('randomforestregressor', RandomForestRegressor())])"
      ]
     },
     "execution_count": 1191,
     "metadata": {},
     "output_type": "execute_result"
    }
   ],
   "source": [
    "pipe = make_pipeline(\n",
    "RobustScaler(),\n",
    "RandomForestRegressor()\n",
    ")\n",
    "pipe.fit(X_train, y_train)"
   ]
  },
  {
   "cell_type": "code",
   "execution_count": 1192,
   "metadata": {},
   "outputs": [
    {
     "data": {
      "text/plain": [
       "('Mean Absolute Error:', 0.1301666666666667)"
      ]
     },
     "execution_count": 1192,
     "metadata": {},
     "output_type": "execute_result"
    }
   ],
   "source": [
    "predictions = pipe.predict(X_test)\n",
    "'Mean Absolute Error:', metrics.mean_absolute_error(y_test, predictions)"
   ]
  },
  {
   "cell_type": "code",
   "execution_count": 1193,
   "metadata": {},
   "outputs": [
    {
     "data": {
      "text/plain": [
       "('Mean Squared Error:', 0.027681966666666624)"
      ]
     },
     "execution_count": 1193,
     "metadata": {},
     "output_type": "execute_result"
    }
   ],
   "source": [
    "'Mean Squared Error:', metrics.mean_squared_error(y_test, predictions)"
   ]
  },
  {
   "cell_type": "code",
   "execution_count": 1194,
   "metadata": {},
   "outputs": [
    {
     "data": {
      "text/plain": [
       "('Root Mean Squared Error:', 0.16637898505119758)"
      ]
     },
     "execution_count": 1194,
     "metadata": {},
     "output_type": "execute_result"
    }
   ],
   "source": [
    "'Root Mean Squared Error:', np.sqrt(metrics.mean_squared_error(y_test, predictions))"
   ]
  },
  {
   "cell_type": "code",
   "execution_count": 1195,
   "metadata": {},
   "outputs": [
    {
     "data": {
      "text/plain": [
       "('R2 Score:', 0.6427436747523536)"
      ]
     },
     "execution_count": 1195,
     "metadata": {},
     "output_type": "execute_result"
    }
   ],
   "source": [
    "'R2 Score:', metrics.r2_score(y_test, predictions)"
   ]
  },
  {
   "cell_type": "code",
   "execution_count": 1196,
   "metadata": {},
   "outputs": [
    {
     "data": {
      "text/plain": [
       "Pipeline(steps=[('robustscaler', RobustScaler()),\n",
       "                ('kneighborsregressor', KNeighborsRegressor())])"
      ]
     },
     "execution_count": 1196,
     "metadata": {},
     "output_type": "execute_result"
    }
   ],
   "source": [
    "pipe = make_pipeline(\n",
    "RobustScaler(),\n",
    "KNeighborsRegressor()\n",
    ")\n",
    "pipe.fit(X_train, y_train)"
   ]
  },
  {
   "cell_type": "code",
   "execution_count": 1197,
   "metadata": {},
   "outputs": [
    {
     "data": {
      "text/plain": [
       "('Mean Absolute Error:', 0.14846666666666658)"
      ]
     },
     "execution_count": 1197,
     "metadata": {},
     "output_type": "execute_result"
    }
   ],
   "source": [
    "predictions = pipe.predict(X_test)\n",
    "'Mean Absolute Error:', metrics.mean_absolute_error(y_test, predictions)"
   ]
  },
  {
   "cell_type": "code",
   "execution_count": 1198,
   "metadata": {},
   "outputs": [
    {
     "data": {
      "text/plain": [
       "('Mean Squared Error:', 0.03511866666666664)"
      ]
     },
     "execution_count": 1198,
     "metadata": {},
     "output_type": "execute_result"
    }
   ],
   "source": [
    "'Mean Squared Error:', metrics.mean_squared_error(y_test, predictions)"
   ]
  },
  {
   "cell_type": "code",
   "execution_count": 1199,
   "metadata": {},
   "outputs": [
    {
     "data": {
      "text/plain": [
       "('Root Mean Squared Error:', 0.18739975097813402)"
      ]
     },
     "execution_count": 1199,
     "metadata": {},
     "output_type": "execute_result"
    }
   ],
   "source": [
    "'Root Mean Squared Error:', np.sqrt(metrics.mean_squared_error(y_test, predictions))"
   ]
  },
  {
   "cell_type": "code",
   "execution_count": 1200,
   "metadata": {},
   "outputs": [
    {
     "data": {
      "text/plain": [
       "('R2 Score:', 0.5467675417715858)"
      ]
     },
     "execution_count": 1200,
     "metadata": {},
     "output_type": "execute_result"
    }
   ],
   "source": [
    "'R2 Score:', metrics.r2_score(y_test, predictions)"
   ]
  }
 ],
 "metadata": {
  "kernelspec": {
   "display_name": "Python 3",
   "language": "python",
   "name": "python3"
  },
  "language_info": {
   "codemirror_mode": {
    "name": "ipython",
    "version": 3
   },
   "file_extension": ".py",
   "mimetype": "text/x-python",
   "name": "python",
   "nbconvert_exporter": "python",
   "pygments_lexer": "ipython3",
   "version": "3.7.9"
  },
  "orig_nbformat": 4
 },
 "nbformat": 4,
 "nbformat_minor": 2
}
