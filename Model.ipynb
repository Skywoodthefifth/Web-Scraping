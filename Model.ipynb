{
 "cells": [
  {
   "cell_type": "code",
   "execution_count": 42,
   "metadata": {},
   "outputs": [],
   "source": [
    "import re\n",
    "import sys\n",
    "\n",
    "import time\n",
    "import datetime\n",
    "\n",
    "import numpy as np\n",
    "import pandas as pd\n",
    "\n",
    "import seaborn as sns\n",
    "import matplotlib.pyplot as plt\n",
    "\n",
    "from sklearn import metrics\n",
    "from sklearn import preprocessing\n",
    "from sklearn.neighbors import KNeighborsRegressor\n",
    "from sklearn.ensemble import RandomForestRegressor\n",
    "from sklearn.model_selection import train_test_split\n",
    "# Loading the data\n",
    "df = pd.read_csv('Top 1000 IMDb movies.csv')"
   ]
  },
  {
   "cell_type": "code",
   "execution_count": 43,
   "metadata": {},
   "outputs": [
    {
     "name": "stdout",
     "output_type": "stream",
     "text": [
      "<class 'pandas.core.frame.DataFrame'>\n",
      "RangeIndex: 1000 entries, 0 to 999\n",
      "Data columns (total 11 columns):\n",
      " #   Column            Non-Null Count  Dtype  \n",
      "---  ------            --------------  -----  \n",
      " 0   Unnamed: 0        1000 non-null   int64  \n",
      " 1   Movie_Name        1000 non-null   object \n",
      " 2   Year_of_Release   1000 non-null   int64  \n",
      " 3   C_Rating          984 non-null    object \n",
      " 4   Watch_Time_(min)  1000 non-null   int64  \n",
      " 5   Genre             1000 non-null   object \n",
      " 6   Movie_Rating      1000 non-null   float64\n",
      " 7   Metascore         844 non-null    float64\n",
      " 8   Votes             1000 non-null   int64  \n",
      " 9   Gross_($M)        814 non-null    float64\n",
      " 10  Description       1000 non-null   object \n",
      "dtypes: float64(3), int64(4), object(4)\n",
      "memory usage: 86.1+ KB\n"
     ]
    }
   ],
   "source": [
    "df.info()"
   ]
  },
  {
   "cell_type": "code",
   "execution_count": 44,
   "metadata": {},
   "outputs": [
    {
     "data": {
      "text/html": [
       "<div>\n",
       "<style scoped>\n",
       "    .dataframe tbody tr th:only-of-type {\n",
       "        vertical-align: middle;\n",
       "    }\n",
       "\n",
       "    .dataframe tbody tr th {\n",
       "        vertical-align: top;\n",
       "    }\n",
       "\n",
       "    .dataframe thead th {\n",
       "        text-align: right;\n",
       "    }\n",
       "</style>\n",
       "<table border=\"1\" class=\"dataframe\">\n",
       "  <thead>\n",
       "    <tr style=\"text-align: right;\">\n",
       "      <th></th>\n",
       "      <th>Unnamed: 0</th>\n",
       "      <th>Movie_Name</th>\n",
       "      <th>Year_of_Release</th>\n",
       "      <th>C_Rating</th>\n",
       "      <th>Watch_Time_(min)</th>\n",
       "      <th>Genre</th>\n",
       "      <th>Movie_Rating</th>\n",
       "      <th>Metascore</th>\n",
       "      <th>Votes</th>\n",
       "      <th>Gross_($M)</th>\n",
       "      <th>Description</th>\n",
       "    </tr>\n",
       "  </thead>\n",
       "  <tbody>\n",
       "    <tr>\n",
       "      <th>0</th>\n",
       "      <td>0</td>\n",
       "      <td>The Shawshank Redemption</td>\n",
       "      <td>1994</td>\n",
       "      <td>R</td>\n",
       "      <td>142</td>\n",
       "      <td>Drama</td>\n",
       "      <td>9.3</td>\n",
       "      <td>82.0</td>\n",
       "      <td>2735235</td>\n",
       "      <td>28.34</td>\n",
       "      <td>Over the course of several years, two convicts...</td>\n",
       "    </tr>\n",
       "    <tr>\n",
       "      <th>1</th>\n",
       "      <td>1</td>\n",
       "      <td>The Godfather</td>\n",
       "      <td>1972</td>\n",
       "      <td>R</td>\n",
       "      <td>175</td>\n",
       "      <td>Crime, Drama</td>\n",
       "      <td>9.2</td>\n",
       "      <td>100.0</td>\n",
       "      <td>1902109</td>\n",
       "      <td>134.97</td>\n",
       "      <td>The aging patriarch of an organized crime dyna...</td>\n",
       "    </tr>\n",
       "    <tr>\n",
       "      <th>2</th>\n",
       "      <td>2</td>\n",
       "      <td>The Dark Knight</td>\n",
       "      <td>2008</td>\n",
       "      <td>PG-13</td>\n",
       "      <td>152</td>\n",
       "      <td>Action, Crime, Drama</td>\n",
       "      <td>9.0</td>\n",
       "      <td>84.0</td>\n",
       "      <td>2708419</td>\n",
       "      <td>534.86</td>\n",
       "      <td>When the menace known as the Joker wreaks havo...</td>\n",
       "    </tr>\n",
       "    <tr>\n",
       "      <th>3</th>\n",
       "      <td>3</td>\n",
       "      <td>Schindler's List</td>\n",
       "      <td>1993</td>\n",
       "      <td>R</td>\n",
       "      <td>195</td>\n",
       "      <td>Biography, Drama, History</td>\n",
       "      <td>9.0</td>\n",
       "      <td>95.0</td>\n",
       "      <td>1380843</td>\n",
       "      <td>96.90</td>\n",
       "      <td>In German-occupied Poland during World War II,...</td>\n",
       "    </tr>\n",
       "    <tr>\n",
       "      <th>4</th>\n",
       "      <td>4</td>\n",
       "      <td>The Lord of the Rings: The Return of the King</td>\n",
       "      <td>2003</td>\n",
       "      <td>PG-13</td>\n",
       "      <td>201</td>\n",
       "      <td>Action, Adventure, Drama</td>\n",
       "      <td>9.0</td>\n",
       "      <td>94.0</td>\n",
       "      <td>1881383</td>\n",
       "      <td>377.85</td>\n",
       "      <td>Gandalf and Aragorn lead the World of Men agai...</td>\n",
       "    </tr>\n",
       "    <tr>\n",
       "      <th>5</th>\n",
       "      <td>5</td>\n",
       "      <td>12 Angry Men</td>\n",
       "      <td>1957</td>\n",
       "      <td>Approved</td>\n",
       "      <td>96</td>\n",
       "      <td>Crime, Drama</td>\n",
       "      <td>9.0</td>\n",
       "      <td>97.0</td>\n",
       "      <td>809518</td>\n",
       "      <td>4.36</td>\n",
       "      <td>The jury in a New York City murder trial is fr...</td>\n",
       "    </tr>\n",
       "    <tr>\n",
       "      <th>6</th>\n",
       "      <td>6</td>\n",
       "      <td>The Godfather Part II</td>\n",
       "      <td>1974</td>\n",
       "      <td>R</td>\n",
       "      <td>202</td>\n",
       "      <td>Crime, Drama</td>\n",
       "      <td>9.0</td>\n",
       "      <td>90.0</td>\n",
       "      <td>1296679</td>\n",
       "      <td>57.30</td>\n",
       "      <td>The early life and career of Vito Corleone in ...</td>\n",
       "    </tr>\n",
       "    <tr>\n",
       "      <th>7</th>\n",
       "      <td>7</td>\n",
       "      <td>Pulp Fiction</td>\n",
       "      <td>1994</td>\n",
       "      <td>R</td>\n",
       "      <td>154</td>\n",
       "      <td>Crime, Drama</td>\n",
       "      <td>8.9</td>\n",
       "      <td>95.0</td>\n",
       "      <td>2101929</td>\n",
       "      <td>107.93</td>\n",
       "      <td>The lives of two mob hitmen, a boxer, a gangst...</td>\n",
       "    </tr>\n",
       "    <tr>\n",
       "      <th>8</th>\n",
       "      <td>8</td>\n",
       "      <td>Inception</td>\n",
       "      <td>2010</td>\n",
       "      <td>PG-13</td>\n",
       "      <td>148</td>\n",
       "      <td>Action, Adventure, Sci-Fi</td>\n",
       "      <td>8.8</td>\n",
       "      <td>74.0</td>\n",
       "      <td>2404179</td>\n",
       "      <td>292.58</td>\n",
       "      <td>A thief who steals corporate secrets through t...</td>\n",
       "    </tr>\n",
       "    <tr>\n",
       "      <th>9</th>\n",
       "      <td>9</td>\n",
       "      <td>Fight Club</td>\n",
       "      <td>1999</td>\n",
       "      <td>R</td>\n",
       "      <td>139</td>\n",
       "      <td>Drama</td>\n",
       "      <td>8.8</td>\n",
       "      <td>66.0</td>\n",
       "      <td>2177808</td>\n",
       "      <td>37.03</td>\n",
       "      <td>An insomniac office worker and a devil-may-car...</td>\n",
       "    </tr>\n",
       "    <tr>\n",
       "      <th>10</th>\n",
       "      <td>10</td>\n",
       "      <td>The Lord of the Rings: The Fellowship of the Ring</td>\n",
       "      <td>2001</td>\n",
       "      <td>PG-13</td>\n",
       "      <td>178</td>\n",
       "      <td>Action, Adventure, Drama</td>\n",
       "      <td>8.8</td>\n",
       "      <td>92.0</td>\n",
       "      <td>1910207</td>\n",
       "      <td>315.54</td>\n",
       "      <td>A meek Hobbit from the Shire and eight compani...</td>\n",
       "    </tr>\n",
       "    <tr>\n",
       "      <th>11</th>\n",
       "      <td>11</td>\n",
       "      <td>Forrest Gump</td>\n",
       "      <td>1994</td>\n",
       "      <td>PG-13</td>\n",
       "      <td>142</td>\n",
       "      <td>Drama, Romance</td>\n",
       "      <td>8.8</td>\n",
       "      <td>82.0</td>\n",
       "      <td>2128491</td>\n",
       "      <td>330.25</td>\n",
       "      <td>The presidencies of Kennedy and Johnson, the V...</td>\n",
       "    </tr>\n",
       "    <tr>\n",
       "      <th>12</th>\n",
       "      <td>12</td>\n",
       "      <td>The Good, the Bad and the Ugly</td>\n",
       "      <td>1966</td>\n",
       "      <td>Approved</td>\n",
       "      <td>178</td>\n",
       "      <td>Adventure, Western</td>\n",
       "      <td>8.8</td>\n",
       "      <td>90.0</td>\n",
       "      <td>774990</td>\n",
       "      <td>6.10</td>\n",
       "      <td>A bounty hunting scam joins two men in an unea...</td>\n",
       "    </tr>\n",
       "    <tr>\n",
       "      <th>13</th>\n",
       "      <td>13</td>\n",
       "      <td>The Lord of the Rings: The Two Towers</td>\n",
       "      <td>2002</td>\n",
       "      <td>PG-13</td>\n",
       "      <td>179</td>\n",
       "      <td>Action, Adventure, Drama</td>\n",
       "      <td>8.8</td>\n",
       "      <td>87.0</td>\n",
       "      <td>1698350</td>\n",
       "      <td>342.55</td>\n",
       "      <td>While Frodo and Sam edge closer to Mordor with...</td>\n",
       "    </tr>\n",
       "    <tr>\n",
       "      <th>14</th>\n",
       "      <td>14</td>\n",
       "      <td>Jai Bhim</td>\n",
       "      <td>2021</td>\n",
       "      <td>TV-MA</td>\n",
       "      <td>164</td>\n",
       "      <td>Crime, Drama, Mystery</td>\n",
       "      <td>8.8</td>\n",
       "      <td>NaN</td>\n",
       "      <td>206160</td>\n",
       "      <td>NaN</td>\n",
       "      <td>When a tribal man is arrested for a case of al...</td>\n",
       "    </tr>\n",
       "    <tr>\n",
       "      <th>15</th>\n",
       "      <td>15</td>\n",
       "      <td>777 Charlie</td>\n",
       "      <td>2022</td>\n",
       "      <td>NaN</td>\n",
       "      <td>164</td>\n",
       "      <td>Adventure, Comedy, Drama</td>\n",
       "      <td>8.8</td>\n",
       "      <td>NaN</td>\n",
       "      <td>34505</td>\n",
       "      <td>NaN</td>\n",
       "      <td>Dharma is stuck in a rut with his negative and...</td>\n",
       "    </tr>\n",
       "    <tr>\n",
       "      <th>16</th>\n",
       "      <td>16</td>\n",
       "      <td>Rocketry: The Nambi Effect</td>\n",
       "      <td>2022</td>\n",
       "      <td>NaN</td>\n",
       "      <td>157</td>\n",
       "      <td>Biography, Drama</td>\n",
       "      <td>8.8</td>\n",
       "      <td>NaN</td>\n",
       "      <td>52856</td>\n",
       "      <td>NaN</td>\n",
       "      <td>Based on the life of Indian Space Research Org...</td>\n",
       "    </tr>\n",
       "    <tr>\n",
       "      <th>17</th>\n",
       "      <td>17</td>\n",
       "      <td>The Matrix</td>\n",
       "      <td>1999</td>\n",
       "      <td>R</td>\n",
       "      <td>136</td>\n",
       "      <td>Action, Sci-Fi</td>\n",
       "      <td>8.7</td>\n",
       "      <td>73.0</td>\n",
       "      <td>1951328</td>\n",
       "      <td>171.48</td>\n",
       "      <td>When a beautiful stranger leads computer hacke...</td>\n",
       "    </tr>\n",
       "    <tr>\n",
       "      <th>18</th>\n",
       "      <td>18</td>\n",
       "      <td>Goodfellas</td>\n",
       "      <td>1990</td>\n",
       "      <td>R</td>\n",
       "      <td>145</td>\n",
       "      <td>Biography, Crime, Drama</td>\n",
       "      <td>8.7</td>\n",
       "      <td>92.0</td>\n",
       "      <td>1187250</td>\n",
       "      <td>46.84</td>\n",
       "      <td>The story of Henry Hill and his life in the mo...</td>\n",
       "    </tr>\n",
       "    <tr>\n",
       "      <th>19</th>\n",
       "      <td>19</td>\n",
       "      <td>One Flew Over the Cuckoo's Nest</td>\n",
       "      <td>1975</td>\n",
       "      <td>R</td>\n",
       "      <td>133</td>\n",
       "      <td>Drama</td>\n",
       "      <td>8.7</td>\n",
       "      <td>84.0</td>\n",
       "      <td>1025777</td>\n",
       "      <td>112.00</td>\n",
       "      <td>In the Fall of 1963, a Korean War veteran and ...</td>\n",
       "    </tr>\n",
       "  </tbody>\n",
       "</table>\n",
       "</div>"
      ],
      "text/plain": [
       "    Unnamed: 0                                         Movie_Name  \\\n",
       "0            0                           The Shawshank Redemption   \n",
       "1            1                                      The Godfather   \n",
       "2            2                                    The Dark Knight   \n",
       "3            3                                   Schindler's List   \n",
       "4            4      The Lord of the Rings: The Return of the King   \n",
       "5            5                                       12 Angry Men   \n",
       "6            6                              The Godfather Part II   \n",
       "7            7                                       Pulp Fiction   \n",
       "8            8                                          Inception   \n",
       "9            9                                         Fight Club   \n",
       "10          10  The Lord of the Rings: The Fellowship of the Ring   \n",
       "11          11                                       Forrest Gump   \n",
       "12          12                     The Good, the Bad and the Ugly   \n",
       "13          13              The Lord of the Rings: The Two Towers   \n",
       "14          14                                           Jai Bhim   \n",
       "15          15                                        777 Charlie   \n",
       "16          16                         Rocketry: The Nambi Effect   \n",
       "17          17                                         The Matrix   \n",
       "18          18                                         Goodfellas   \n",
       "19          19                    One Flew Over the Cuckoo's Nest   \n",
       "\n",
       "    Year_of_Release  C_Rating  Watch_Time_(min)  \\\n",
       "0              1994         R               142   \n",
       "1              1972         R               175   \n",
       "2              2008     PG-13               152   \n",
       "3              1993         R               195   \n",
       "4              2003     PG-13               201   \n",
       "5              1957  Approved                96   \n",
       "6              1974         R               202   \n",
       "7              1994         R               154   \n",
       "8              2010     PG-13               148   \n",
       "9              1999         R               139   \n",
       "10             2001     PG-13               178   \n",
       "11             1994     PG-13               142   \n",
       "12             1966  Approved               178   \n",
       "13             2002     PG-13               179   \n",
       "14             2021     TV-MA               164   \n",
       "15             2022       NaN               164   \n",
       "16             2022       NaN               157   \n",
       "17             1999         R               136   \n",
       "18             1990         R               145   \n",
       "19             1975         R               133   \n",
       "\n",
       "                                    Genre  Movie_Rating  Metascore    Votes  \\\n",
       "0                       Drama                       9.3       82.0  2735235   \n",
       "1                Crime, Drama                       9.2      100.0  1902109   \n",
       "2        Action, Crime, Drama                       9.0       84.0  2708419   \n",
       "3   Biography, Drama, History                       9.0       95.0  1380843   \n",
       "4    Action, Adventure, Drama                       9.0       94.0  1881383   \n",
       "5                Crime, Drama                       9.0       97.0   809518   \n",
       "6                Crime, Drama                       9.0       90.0  1296679   \n",
       "7                Crime, Drama                       8.9       95.0  2101929   \n",
       "8   Action, Adventure, Sci-Fi                       8.8       74.0  2404179   \n",
       "9                       Drama                       8.8       66.0  2177808   \n",
       "10   Action, Adventure, Drama                       8.8       92.0  1910207   \n",
       "11             Drama, Romance                       8.8       82.0  2128491   \n",
       "12         Adventure, Western                       8.8       90.0   774990   \n",
       "13   Action, Adventure, Drama                       8.8       87.0  1698350   \n",
       "14      Crime, Drama, Mystery                       8.8        NaN   206160   \n",
       "15   Adventure, Comedy, Drama                       8.8        NaN    34505   \n",
       "16           Biography, Drama                       8.8        NaN    52856   \n",
       "17             Action, Sci-Fi                       8.7       73.0  1951328   \n",
       "18    Biography, Crime, Drama                       8.7       92.0  1187250   \n",
       "19                      Drama                       8.7       84.0  1025777   \n",
       "\n",
       "    Gross_($M)                                        Description  \n",
       "0        28.34  Over the course of several years, two convicts...  \n",
       "1       134.97  The aging patriarch of an organized crime dyna...  \n",
       "2       534.86  When the menace known as the Joker wreaks havo...  \n",
       "3        96.90  In German-occupied Poland during World War II,...  \n",
       "4       377.85  Gandalf and Aragorn lead the World of Men agai...  \n",
       "5         4.36  The jury in a New York City murder trial is fr...  \n",
       "6        57.30  The early life and career of Vito Corleone in ...  \n",
       "7       107.93  The lives of two mob hitmen, a boxer, a gangst...  \n",
       "8       292.58  A thief who steals corporate secrets through t...  \n",
       "9        37.03  An insomniac office worker and a devil-may-car...  \n",
       "10      315.54  A meek Hobbit from the Shire and eight compani...  \n",
       "11      330.25  The presidencies of Kennedy and Johnson, the V...  \n",
       "12        6.10  A bounty hunting scam joins two men in an unea...  \n",
       "13      342.55  While Frodo and Sam edge closer to Mordor with...  \n",
       "14         NaN  When a tribal man is arrested for a case of al...  \n",
       "15         NaN  Dharma is stuck in a rut with his negative and...  \n",
       "16         NaN  Based on the life of Indian Space Research Org...  \n",
       "17      171.48  When a beautiful stranger leads computer hacke...  \n",
       "18       46.84  The story of Henry Hill and his life in the mo...  \n",
       "19      112.00  In the Fall of 1963, a Korean War veteran and ...  "
      ]
     },
     "execution_count": 44,
     "metadata": {},
     "output_type": "execute_result"
    }
   ],
   "source": [
    "df.head(20)"
   ]
  },
  {
   "cell_type": "code",
   "execution_count": 45,
   "metadata": {},
   "outputs": [
    {
     "data": {
      "text/plain": [
       "Unnamed: 0            0\n",
       "Movie_Name            0\n",
       "Year_of_Release       0\n",
       "C_Rating             16\n",
       "Watch_Time_(min)      0\n",
       "Genre                 0\n",
       "Movie_Rating          0\n",
       "Metascore           156\n",
       "Votes                 0\n",
       "Gross_($M)          186\n",
       "Description           0\n",
       "dtype: int64"
      ]
     },
     "execution_count": 45,
     "metadata": {},
     "output_type": "execute_result"
    }
   ],
   "source": [
    "df.isnull().sum()"
   ]
  },
  {
   "cell_type": "code",
   "execution_count": 46,
   "metadata": {},
   "outputs": [
    {
     "data": {
      "text/plain": [
       "<AxesSubplot:xlabel='Movie_Rating', ylabel='Votes'>"
      ]
     },
     "execution_count": 46,
     "metadata": {},
     "output_type": "execute_result"
    },
    {
     "data": {
      "image/png": "[encoded data removed]",
      "text/plain": [
       "<Figure size 640x480 with 1 Axes>"
      ]
     },
     "metadata": {},
     "output_type": "display_data"
    }
   ],
   "source": [
    "sns.barplot(x='Movie_Rating', y='Votes', data=df)"
   ]
  },
  {
   "cell_type": "code",
   "execution_count": 47,
   "metadata": {},
   "outputs": [
    {
     "name": "stderr",
     "output_type": "stream",
     "text": [
      "c:\\Users\\namtr\\AppData\\Local\\Programs\\Python\\Python37\\lib\\site-packages\\seaborn\\algorithms.py:98: RuntimeWarning: Mean of empty slice\n",
      "  boot_dist.append(f(*sample, **func_kwargs))\n"
     ]
    },
    {
     "data": {
      "text/plain": [
       "<AxesSubplot:xlabel='Movie_Rating', ylabel='Gross_($M)'>"
      ]
     },
     "execution_count": 47,
     "metadata": {},
     "output_type": "execute_result"
    },
    {
     "data": {
      "image/png": "[encoded data removed]",
      "text/plain": [
       "<Figure size 640x480 with 1 Axes>"
      ]
     },
     "metadata": {},
     "output_type": "display_data"
    }
   ],
   "source": [
    "sns.barplot(x='Movie_Rating', y='Gross_($M)', data=df)"
   ]
  },
  {
   "attachments": {},
   "cell_type": "markdown",
   "metadata": {},
   "source": [
    "Data Cleaning"
   ]
  },
  {
   "cell_type": "code",
   "execution_count": 48,
   "metadata": {},
   "outputs": [],
   "source": [
    "df = df.drop(columns=['Unnamed: 0'])"
   ]
  },
  {
   "cell_type": "code",
   "execution_count": 49,
   "metadata": {},
   "outputs": [],
   "source": [
    "df.drop_duplicates(inplace=True)"
   ]
  },
  {
   "cell_type": "code",
   "execution_count": 50,
   "metadata": {},
   "outputs": [],
   "source": [
    "# df = df.round({'Movie_Rating': 0})"
   ]
  },
  {
   "cell_type": "code",
   "execution_count": 51,
   "metadata": {},
   "outputs": [],
   "source": [
    "df.dropna(axis=0,subset=['C_Rating'],inplace=True)"
   ]
  },
  {
   "attachments": {},
   "cell_type": "markdown",
   "metadata": {},
   "source": [
    "Missing Value Imputation"
   ]
  },
  {
   "cell_type": "code",
   "execution_count": 52,
   "metadata": {},
   "outputs": [],
   "source": [
    "df['Metascore'] = df['Metascore'].fillna(0)"
   ]
  },
  {
   "cell_type": "code",
   "execution_count": 53,
   "metadata": {},
   "outputs": [],
   "source": [
    "df['Gross_($M)'] = df['Gross_($M)'].fillna(df['Gross_($M)'].median())"
   ]
  },
  {
   "cell_type": "code",
   "execution_count": 54,
   "metadata": {},
   "outputs": [],
   "source": [
    "#Replacing the content rating with Value R as it has highest frequency\n",
    "df[\"C_Rating\"] = df[\"C_Rating\"].fillna(\"R\")"
   ]
  },
  {
   "attachments": {},
   "cell_type": "markdown",
   "metadata": {},
   "source": [
    "Label Encoding"
   ]
  },
  {
   "cell_type": "code",
   "execution_count": 55,
   "metadata": {},
   "outputs": [],
   "source": [
    "le = preprocessing.LabelEncoder()\n",
    "df['Movie_Name'] = le.fit_transform(df['Movie_Name'])"
   ]
  },
  {
   "cell_type": "code",
   "execution_count": 56,
   "metadata": {},
   "outputs": [],
   "source": [
    "le = preprocessing.LabelEncoder()\n",
    "df['C_Rating'] = le.fit_transform(df['C_Rating'])"
   ]
  },
  {
   "cell_type": "code",
   "execution_count": 57,
   "metadata": {},
   "outputs": [],
   "source": [
    "le = preprocessing.LabelEncoder()\n",
    "df['Genre'] = le.fit_transform(df['Genre'])"
   ]
  },
  {
   "cell_type": "code",
   "execution_count": 58,
   "metadata": {},
   "outputs": [],
   "source": [
    "le = preprocessing.LabelEncoder()\n",
    "df['Description'] = le.fit_transform(df['Description'])"
   ]
  },
  {
   "attachments": {},
   "cell_type": "markdown",
   "metadata": {},
   "source": [
    "Outliers"
   ]
  },
  {
   "cell_type": "code",
   "execution_count": 59,
   "metadata": {},
   "outputs": [],
   "source": [
    "df_outliers = df.copy()"
   ]
  },
  {
   "cell_type": "code",
   "execution_count": 60,
   "metadata": {},
   "outputs": [
    {
     "name": "stdout",
     "output_type": "stream",
     "text": [
      "1918.9440352563133\n",
      "2063.6250704347435\n"
     ]
    }
   ],
   "source": [
    "uppper_boundary=df_outliers['Year_of_Release'].mean() + 3* df_outliers['Year_of_Release'].std()\n",
    "lower_boundary=df_outliers['Year_of_Release'].mean() - 3* df_outliers['Year_of_Release'].std()\n",
    "print(lower_boundary), print(uppper_boundary)\n",
    "\n",
    "df_outliers.loc[df_outliers['Year_of_Release']>=uppper_boundary, 'Year_of_Release']=uppper_boundary\n",
    "df_outliers.loc[df_outliers['Year_of_Release']<=lower_boundary, 'Year_of_Release']=lower_boundary"
   ]
  },
  {
   "cell_type": "code",
   "execution_count": 61,
   "metadata": {},
   "outputs": [
    {
     "name": "stdout",
     "output_type": "stream",
     "text": [
      "37.89089597410302\n",
      "210.04609589581568\n"
     ]
    }
   ],
   "source": [
    "uppper_boundary=df_outliers['Watch_Time_(min)'].mean() + 3* df_outliers['Watch_Time_(min)'].std()\n",
    "lower_boundary=df_outliers['Watch_Time_(min)'].mean() - 3* df_outliers['Watch_Time_(min)'].std()\n",
    "print(lower_boundary), print(uppper_boundary)\n",
    "\n",
    "df_outliers.loc[df_outliers['Watch_Time_(min)']>=uppper_boundary, 'Watch_Time_(min)']=uppper_boundary\n",
    "df_outliers.loc[df_outliers['Watch_Time_(min)']<=lower_boundary, 'Watch_Time_(min)']=lower_boundary"
   ]
  },
  {
   "attachments": {},
   "cell_type": "markdown",
   "metadata": {},
   "source": [
    "Feature selection"
   ]
  },
  {
   "cell_type": "code",
   "execution_count": 62,
   "metadata": {},
   "outputs": [],
   "source": [
    "features = ['Movie_Name','Year_of_Release', 'C_Rating', 'Watch_Time_(min)', 'Genre', 'Metascore', 'Votes', 'Gross_($M)', 'Description']\n",
    "X = df_outliers[features]\n",
    "y = df_outliers['Movie_Rating']"
   ]
  },
  {
   "cell_type": "code",
   "execution_count": 63,
   "metadata": {},
   "outputs": [
    {
     "data": {
      "text/html": [
       "<div>\n",
       "<style scoped>\n",
       "    .dataframe tbody tr th:only-of-type {\n",
       "        vertical-align: middle;\n",
       "    }\n",
       "\n",
       "    .dataframe tbody tr th {\n",
       "        vertical-align: top;\n",
       "    }\n",
       "\n",
       "    .dataframe thead th {\n",
       "        text-align: right;\n",
       "    }\n",
       "</style>\n",
       "<table border=\"1\" class=\"dataframe\">\n",
       "  <thead>\n",
       "    <tr style=\"text-align: right;\">\n",
       "      <th></th>\n",
       "      <th>Movie_Name</th>\n",
       "      <th>Year_of_Release</th>\n",
       "      <th>C_Rating</th>\n",
       "      <th>Watch_Time_(min)</th>\n",
       "      <th>Genre</th>\n",
       "      <th>Movie_Rating</th>\n",
       "      <th>Metascore</th>\n",
       "      <th>Votes</th>\n",
       "      <th>Gross_($M)</th>\n",
       "      <th>Description</th>\n",
       "    </tr>\n",
       "  </thead>\n",
       "  <tbody>\n",
       "    <tr>\n",
       "      <th>0</th>\n",
       "      <td>854</td>\n",
       "      <td>1994</td>\n",
       "      <td>9</td>\n",
       "      <td>142</td>\n",
       "      <td>133</td>\n",
       "      <td>9.3</td>\n",
       "      <td>82.0</td>\n",
       "      <td>2735235</td>\n",
       "      <td>28.340</td>\n",
       "      <td>730</td>\n",
       "    </tr>\n",
       "    <tr>\n",
       "      <th>1</th>\n",
       "      <td>746</td>\n",
       "      <td>1972</td>\n",
       "      <td>9</td>\n",
       "      <td>175</td>\n",
       "      <td>120</td>\n",
       "      <td>9.2</td>\n",
       "      <td>100.0</td>\n",
       "      <td>1902109</td>\n",
       "      <td>134.970</td>\n",
       "      <td>780</td>\n",
       "    </tr>\n",
       "    <tr>\n",
       "      <th>2</th>\n",
       "      <td>718</td>\n",
       "      <td>2008</td>\n",
       "      <td>7</td>\n",
       "      <td>152</td>\n",
       "      <td>20</td>\n",
       "      <td>9.0</td>\n",
       "      <td>84.0</td>\n",
       "      <td>2708419</td>\n",
       "      <td>534.860</td>\n",
       "      <td>957</td>\n",
       "    </tr>\n",
       "    <tr>\n",
       "      <th>3</th>\n",
       "      <td>599</td>\n",
       "      <td>1993</td>\n",
       "      <td>9</td>\n",
       "      <td>195</td>\n",
       "      <td>84</td>\n",
       "      <td>9.0</td>\n",
       "      <td>95.0</td>\n",
       "      <td>1380843</td>\n",
       "      <td>96.900</td>\n",
       "      <td>623</td>\n",
       "    </tr>\n",
       "    <tr>\n",
       "      <th>4</th>\n",
       "      <td>800</td>\n",
       "      <td>2003</td>\n",
       "      <td>7</td>\n",
       "      <td>201</td>\n",
       "      <td>4</td>\n",
       "      <td>9.0</td>\n",
       "      <td>94.0</td>\n",
       "      <td>1881383</td>\n",
       "      <td>377.850</td>\n",
       "      <td>585</td>\n",
       "    </tr>\n",
       "    <tr>\n",
       "      <th>5</th>\n",
       "      <td>0</td>\n",
       "      <td>1957</td>\n",
       "      <td>0</td>\n",
       "      <td>96</td>\n",
       "      <td>120</td>\n",
       "      <td>9.0</td>\n",
       "      <td>97.0</td>\n",
       "      <td>809518</td>\n",
       "      <td>4.360</td>\n",
       "      <td>801</td>\n",
       "    </tr>\n",
       "    <tr>\n",
       "      <th>6</th>\n",
       "      <td>747</td>\n",
       "      <td>1974</td>\n",
       "      <td>9</td>\n",
       "      <td>202</td>\n",
       "      <td>120</td>\n",
       "      <td>9.0</td>\n",
       "      <td>90.0</td>\n",
       "      <td>1296679</td>\n",
       "      <td>57.300</td>\n",
       "      <td>793</td>\n",
       "    </tr>\n",
       "    <tr>\n",
       "      <th>7</th>\n",
       "      <td>554</td>\n",
       "      <td>1994</td>\n",
       "      <td>9</td>\n",
       "      <td>154</td>\n",
       "      <td>120</td>\n",
       "      <td>8.9</td>\n",
       "      <td>95.0</td>\n",
       "      <td>2101929</td>\n",
       "      <td>107.930</td>\n",
       "      <td>812</td>\n",
       "    </tr>\n",
       "    <tr>\n",
       "      <th>8</th>\n",
       "      <td>352</td>\n",
       "      <td>2010</td>\n",
       "      <td>7</td>\n",
       "      <td>148</td>\n",
       "      <td>9</td>\n",
       "      <td>8.8</td>\n",
       "      <td>74.0</td>\n",
       "      <td>2404179</td>\n",
       "      <td>292.580</td>\n",
       "      <td>298</td>\n",
       "    </tr>\n",
       "    <tr>\n",
       "      <th>9</th>\n",
       "      <td>258</td>\n",
       "      <td>1999</td>\n",
       "      <td>9</td>\n",
       "      <td>139</td>\n",
       "      <td>133</td>\n",
       "      <td>8.8</td>\n",
       "      <td>66.0</td>\n",
       "      <td>2177808</td>\n",
       "      <td>37.030</td>\n",
       "      <td>471</td>\n",
       "    </tr>\n",
       "    <tr>\n",
       "      <th>10</th>\n",
       "      <td>799</td>\n",
       "      <td>2001</td>\n",
       "      <td>7</td>\n",
       "      <td>178</td>\n",
       "      <td>4</td>\n",
       "      <td>8.8</td>\n",
       "      <td>92.0</td>\n",
       "      <td>1910207</td>\n",
       "      <td>315.540</td>\n",
       "      <td>171</td>\n",
       "    </tr>\n",
       "    <tr>\n",
       "      <th>11</th>\n",
       "      <td>266</td>\n",
       "      <td>1994</td>\n",
       "      <td>7</td>\n",
       "      <td>142</td>\n",
       "      <td>166</td>\n",
       "      <td>8.8</td>\n",
       "      <td>82.0</td>\n",
       "      <td>2128491</td>\n",
       "      <td>330.250</td>\n",
       "      <td>819</td>\n",
       "    </tr>\n",
       "    <tr>\n",
       "      <th>12</th>\n",
       "      <td>749</td>\n",
       "      <td>1966</td>\n",
       "      <td>0</td>\n",
       "      <td>178</td>\n",
       "      <td>59</td>\n",
       "      <td>8.8</td>\n",
       "      <td>90.0</td>\n",
       "      <td>774990</td>\n",
       "      <td>6.100</td>\n",
       "      <td>41</td>\n",
       "    </tr>\n",
       "    <tr>\n",
       "      <th>13</th>\n",
       "      <td>801</td>\n",
       "      <td>2002</td>\n",
       "      <td>7</td>\n",
       "      <td>179</td>\n",
       "      <td>4</td>\n",
       "      <td>8.8</td>\n",
       "      <td>87.0</td>\n",
       "      <td>1698350</td>\n",
       "      <td>342.550</td>\n",
       "      <td>963</td>\n",
       "    </tr>\n",
       "    <tr>\n",
       "      <th>14</th>\n",
       "      <td>370</td>\n",
       "      <td>2021</td>\n",
       "      <td>11</td>\n",
       "      <td>164</td>\n",
       "      <td>125</td>\n",
       "      <td>8.8</td>\n",
       "      <td>0.0</td>\n",
       "      <td>206160</td>\n",
       "      <td>23.455</td>\n",
       "      <td>951</td>\n",
       "    </tr>\n",
       "    <tr>\n",
       "      <th>17</th>\n",
       "      <td>814</td>\n",
       "      <td>1999</td>\n",
       "      <td>9</td>\n",
       "      <td>136</td>\n",
       "      <td>33</td>\n",
       "      <td>8.7</td>\n",
       "      <td>73.0</td>\n",
       "      <td>1951328</td>\n",
       "      <td>171.480</td>\n",
       "      <td>939</td>\n",
       "    </tr>\n",
       "    <tr>\n",
       "      <th>18</th>\n",
       "      <td>290</td>\n",
       "      <td>1990</td>\n",
       "      <td>9</td>\n",
       "      <td>145</td>\n",
       "      <td>81</td>\n",
       "      <td>8.7</td>\n",
       "      <td>92.0</td>\n",
       "      <td>1187250</td>\n",
       "      <td>46.840</td>\n",
       "      <td>831</td>\n",
       "    </tr>\n",
       "    <tr>\n",
       "      <th>19</th>\n",
       "      <td>517</td>\n",
       "      <td>1975</td>\n",
       "      <td>9</td>\n",
       "      <td>133</td>\n",
       "      <td>133</td>\n",
       "      <td>8.7</td>\n",
       "      <td>84.0</td>\n",
       "      <td>1025777</td>\n",
       "      <td>112.000</td>\n",
       "      <td>660</td>\n",
       "    </tr>\n",
       "    <tr>\n",
       "      <th>20</th>\n",
       "      <td>653</td>\n",
       "      <td>1980</td>\n",
       "      <td>6</td>\n",
       "      <td>124</td>\n",
       "      <td>5</td>\n",
       "      <td>8.7</td>\n",
       "      <td>82.0</td>\n",
       "      <td>1316752</td>\n",
       "      <td>290.480</td>\n",
       "      <td>405</td>\n",
       "    </tr>\n",
       "    <tr>\n",
       "      <th>21</th>\n",
       "      <td>633</td>\n",
       "      <td>2020</td>\n",
       "      <td>11</td>\n",
       "      <td>153</td>\n",
       "      <td>24</td>\n",
       "      <td>8.7</td>\n",
       "      <td>0.0</td>\n",
       "      <td>119230</td>\n",
       "      <td>23.455</td>\n",
       "      <td>715</td>\n",
       "    </tr>\n",
       "  </tbody>\n",
       "</table>\n",
       "</div>"
      ],
      "text/plain": [
       "    Movie_Name  Year_of_Release  C_Rating  Watch_Time_(min)  Genre  \\\n",
       "0          854             1994         9               142    133   \n",
       "1          746             1972         9               175    120   \n",
       "2          718             2008         7               152     20   \n",
       "3          599             1993         9               195     84   \n",
       "4          800             2003         7               201      4   \n",
       "5            0             1957         0                96    120   \n",
       "6          747             1974         9               202    120   \n",
       "7          554             1994         9               154    120   \n",
       "8          352             2010         7               148      9   \n",
       "9          258             1999         9               139    133   \n",
       "10         799             2001         7               178      4   \n",
       "11         266             1994         7               142    166   \n",
       "12         749             1966         0               178     59   \n",
       "13         801             2002         7               179      4   \n",
       "14         370             2021        11               164    125   \n",
       "17         814             1999         9               136     33   \n",
       "18         290             1990         9               145     81   \n",
       "19         517             1975         9               133    133   \n",
       "20         653             1980         6               124      5   \n",
       "21         633             2020        11               153     24   \n",
       "\n",
       "    Movie_Rating  Metascore    Votes  Gross_($M)  Description  \n",
       "0            9.3       82.0  2735235      28.340          730  \n",
       "1            9.2      100.0  1902109     134.970          780  \n",
       "2            9.0       84.0  2708419     534.860          957  \n",
       "3            9.0       95.0  1380843      96.900          623  \n",
       "4            9.0       94.0  1881383     377.850          585  \n",
       "5            9.0       97.0   809518       4.360          801  \n",
       "6            9.0       90.0  1296679      57.300          793  \n",
       "7            8.9       95.0  2101929     107.930          812  \n",
       "8            8.8       74.0  2404179     292.580          298  \n",
       "9            8.8       66.0  2177808      37.030          471  \n",
       "10           8.8       92.0  1910207     315.540          171  \n",
       "11           8.8       82.0  2128491     330.250          819  \n",
       "12           8.8       90.0   774990       6.100           41  \n",
       "13           8.8       87.0  1698350     342.550          963  \n",
       "14           8.8        0.0   206160      23.455          951  \n",
       "17           8.7       73.0  1951328     171.480          939  \n",
       "18           8.7       92.0  1187250      46.840          831  \n",
       "19           8.7       84.0  1025777     112.000          660  \n",
       "20           8.7       82.0  1316752     290.480          405  \n",
       "21           8.7        0.0   119230      23.455          715  "
      ]
     },
     "execution_count": 63,
     "metadata": {},
     "output_type": "execute_result"
    }
   ],
   "source": [
    "df.head(20)"
   ]
  },
  {
   "attachments": {},
   "cell_type": "markdown",
   "metadata": {},
   "source": [
    "### DATA VISUALIZATION"
   ]
  },
  {
   "cell_type": "code",
   "execution_count": 64,
   "metadata": {},
   "outputs": [
    {
     "data": {
      "text/plain": [
       "<seaborn.axisgrid.FacetGrid at 0x1693d5d7bc8>"
      ]
     },
     "execution_count": 64,
     "metadata": {},
     "output_type": "execute_result"
    },
    {
     "data": {
      "image/png": "[encoded data removed]",
      "text/plain": [
       "<Figure size 500x500 with 1 Axes>"
      ]
     },
     "metadata": {},
     "output_type": "display_data"
    }
   ],
   "source": [
    "sns.displot(df, x=\"Movie_Rating\")"
   ]
  },
  {
   "cell_type": "code",
   "execution_count": 65,
   "metadata": {},
   "outputs": [
    {
     "data": {
      "image/png": "[encoded data removed]",
      "text/plain": [
       "<Figure size 640x480 with 1 Axes>"
      ]
     },
     "metadata": {},
     "output_type": "display_data"
    }
   ],
   "source": [
    "plt.scatter(df['Movie_Rating'], df['Votes'])\n",
    "plt.xlabel(\"Movie_Rating\")\n",
    "plt.ylabel(\"Votes\")\n",
    "plt.show()"
   ]
  },
  {
   "cell_type": "code",
   "execution_count": 66,
   "metadata": {},
   "outputs": [
    {
     "data": {
      "image/png": "[encoded data removed]",
      "text/plain": [
       "<Figure size 640x480 with 1 Axes>"
      ]
     },
     "metadata": {},
     "output_type": "display_data"
    }
   ],
   "source": [
    "plt.scatter(df['Movie_Rating'], df['Gross_($M)'])\n",
    "plt.xlabel(\"Movie_Rating\")\n",
    "plt.ylabel(\"Gross_($M)\")\n",
    "plt.show()"
   ]
  },
  {
   "cell_type": "code",
   "execution_count": 67,
   "metadata": {},
   "outputs": [
    {
     "data": {
      "image/png": "[encoded data removed]",
      "text/plain": [
       "<Figure size 640x480 with 1 Axes>"
      ]
     },
     "metadata": {},
     "output_type": "display_data"
    }
   ],
   "source": [
    "plt.scatter(df['Movie_Rating'], df['Metascore'])\n",
    "plt.xlabel(\"Movie_Rating\")\n",
    "plt.ylabel(\"Metascore\")\n",
    "plt.show()"
   ]
  },
  {
   "cell_type": "code",
   "execution_count": 68,
   "metadata": {},
   "outputs": [
    {
     "data": {
      "image/png": "[encoded data removed]",
      "text/plain": [
       "<Figure size 640x480 with 2 Axes>"
      ]
     },
     "metadata": {},
     "output_type": "display_data"
    }
   ],
   "source": [
    "sns.heatmap(df.corr(), annot=True ,fmt=\".1f\")\n",
    "plt.show()"
   ]
  },
  {
   "attachments": {},
   "cell_type": "markdown",
   "metadata": {},
   "source": [
    "### Build models"
   ]
  },
  {
   "cell_type": "code",
   "execution_count": 69,
   "metadata": {},
   "outputs": [],
   "source": [
    "X_train, X_test, y_train, y_test = train_test_split(X, y, test_size = 0.3, random_state = 52)"
   ]
  },
  {
   "cell_type": "code",
   "execution_count": 70,
   "metadata": {},
   "outputs": [],
   "source": [
    "from sklearn.pipeline import make_pipeline"
   ]
  },
  {
   "cell_type": "code",
   "execution_count": 71,
   "metadata": {},
   "outputs": [
    {
     "name": "stdout",
     "output_type": "stream",
     "text": [
      "0.6530581513365459\n"
     ]
    }
   ],
   "source": [
    "# create a pipeline object\n",
    "pipe = make_pipeline(\n",
    "RandomForestRegressor()\n",
    ")\n",
    "pipe.fit(X_train, y_train)\n",
    "print(pipe.score(X_test, y_test))"
   ]
  },
  {
   "cell_type": "code",
   "execution_count": 72,
   "metadata": {},
   "outputs": [
    {
     "name": "stdout",
     "output_type": "stream",
     "text": [
      "0.30710851329208366\n"
     ]
    }
   ],
   "source": [
    "# create a pipeline object\n",
    "pipe = make_pipeline(\n",
    "KNeighborsRegressor()\n",
    ")\n",
    "pipe.fit(X_train, y_train)\n",
    "print(pipe.score(X_test, y_test))"
   ]
  },
  {
   "attachments": {},
   "cell_type": "markdown",
   "metadata": {},
   "source": [
    "Feature Scaling"
   ]
  },
  {
   "cell_type": "code",
   "execution_count": 73,
   "metadata": {},
   "outputs": [
    {
     "name": "stdout",
     "output_type": "stream",
     "text": [
      "0.6570885262540058\n"
     ]
    }
   ],
   "source": [
    "from sklearn.preprocessing import RobustScaler\n",
    "# create a pipeline object\n",
    "pipe = make_pipeline(\n",
    "RobustScaler(),\n",
    "RandomForestRegressor()\n",
    ")\n",
    "\n",
    "pipe.fit(X_train, y_train)\n",
    "print(pipe.score(X_test, y_test))"
   ]
  },
  {
   "cell_type": "code",
   "execution_count": 74,
   "metadata": {},
   "outputs": [
    {
     "name": "stdout",
     "output_type": "stream",
     "text": [
      "0.48984176673432944\n"
     ]
    }
   ],
   "source": [
    "# create a pipeline object\n",
    "pipe = make_pipeline(\n",
    "RobustScaler(),\n",
    "KNeighborsRegressor()\n",
    ")\n",
    "pipe.fit(X_train, y_train)\n",
    "print(pipe.score(X_test, y_test))"
   ]
  },
  {
   "attachments": {},
   "cell_type": "markdown",
   "metadata": {},
   "source": [
    "Metrics"
   ]
  },
  {
   "cell_type": "code",
   "execution_count": 75,
   "metadata": {},
   "outputs": [],
   "source": [
    "pipe = make_pipeline(\n",
    "RobustScaler(),\n",
    "RandomForestRegressor()\n",
    ")\n",
    "pipe.fit(X_train, y_train)\n",
    "predictions = pipe.predict(X_test)"
   ]
  },
  {
   "cell_type": "code",
   "execution_count": 76,
   "metadata": {},
   "outputs": [
    {
     "data": {
      "text/plain": [
       "('Mean Absolute Error:', 0.13099324324324318)"
      ]
     },
     "execution_count": 76,
     "metadata": {},
     "output_type": "execute_result"
    }
   ],
   "source": [
    "'Mean Absolute Error:', metrics.mean_absolute_error(y_test, predictions)"
   ]
  },
  {
   "cell_type": "code",
   "execution_count": 77,
   "metadata": {},
   "outputs": [
    {
     "data": {
      "text/plain": [
       "('Root Mean Squared Error:', 0.16294680776916787)"
      ]
     },
     "execution_count": 77,
     "metadata": {},
     "output_type": "execute_result"
    }
   ],
   "source": [
    "'Root Mean Squared Error:', np.sqrt(metrics.mean_squared_error(y_test, predictions))"
   ]
  },
  {
   "cell_type": "code",
   "execution_count": 78,
   "metadata": {},
   "outputs": [
    {
     "data": {
      "text/plain": [
       "('R2 Score:', 0.6444107168187045)"
      ]
     },
     "execution_count": 78,
     "metadata": {},
     "output_type": "execute_result"
    }
   ],
   "source": [
    "'R2 Score:', metrics.r2_score(y_test, predictions)"
   ]
  },
  {
   "cell_type": "code",
   "execution_count": 79,
   "metadata": {},
   "outputs": [],
   "source": [
    "pipe = make_pipeline(\n",
    "RobustScaler(),\n",
    "KNeighborsRegressor()\n",
    ")\n",
    "pipe.fit(X_train, y_train)\n",
    "predictions = pipe.predict(X_test)"
   ]
  },
  {
   "cell_type": "code",
   "execution_count": 80,
   "metadata": {},
   "outputs": [
    {
     "data": {
      "text/plain": [
       "('Mean Absolute Error:', 0.15668918918918917)"
      ]
     },
     "execution_count": 80,
     "metadata": {},
     "output_type": "execute_result"
    }
   ],
   "source": [
    "'Mean Absolute Error:', metrics.mean_absolute_error(y_test, predictions)"
   ]
  },
  {
   "cell_type": "code",
   "execution_count": 81,
   "metadata": {},
   "outputs": [
    {
     "data": {
      "text/plain": [
       "('Root Mean Squared Error:', 0.19517490423526085)"
      ]
     },
     "execution_count": 81,
     "metadata": {},
     "output_type": "execute_result"
    }
   ],
   "source": [
    "'Root Mean Squared Error:', np.sqrt(metrics.mean_squared_error(y_test, predictions))"
   ]
  },
  {
   "cell_type": "code",
   "execution_count": 82,
   "metadata": {},
   "outputs": [
    {
     "data": {
      "text/plain": [
       "('R2 Score:', 0.48984176673432944)"
      ]
     },
     "execution_count": 82,
     "metadata": {},
     "output_type": "execute_result"
    }
   ],
   "source": [
    "'R2 Score:', metrics.r2_score(y_test, predictions)"
   ]
  }
 ],
 "metadata": {
  "kernelspec": {
   "display_name": "Python 3",
   "language": "python",
   "name": "python3"
  },
  "language_info": {
   "codemirror_mode": {
    "name": "ipython",
    "version": 3
   },
   "file_extension": ".py",
   "mimetype": "text/x-python",
   "name": "python",
   "nbconvert_exporter": "python",
   "pygments_lexer": "ipython3",
   "version": "3.7.9"
  },
  "orig_nbformat": 4
 },
 "nbformat": 4,
 "nbformat_minor": 2
}
